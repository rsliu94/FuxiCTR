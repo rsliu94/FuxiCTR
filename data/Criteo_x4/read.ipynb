{
 "cells": [
  {
   "cell_type": "markdown",
   "metadata": {},
   "source": [
    "**Produce Small/Toy dataset**"
   ]
  },
  {
   "cell_type": "code",
   "execution_count": 1,
   "metadata": {},
   "outputs": [
    {
     "name": "stderr",
     "output_type": "stream",
     "text": [
      "/tmp/ipykernel_2435/1685834435.py:6: DeprecationWarning: `pl.count()` is deprecated. Please use `pl.len()` instead.\n",
      "  total_count = lf.select(pl.count()).collect()[0,0]\n"
     ]
    }
   ],
   "source": [
    "import polars as pl\n",
    "\n",
    "def create_smaller_csv(input_file, output_file):\n",
    "    # Get total count\n",
    "    lf = pl.scan_csv(input_file)\n",
    "    total_count = lf.select(pl.count()).collect()[0,0]\n",
    "    n_rows = total_count // 3\n",
    "    \n",
    "    # Create new smaller CSV\n",
    "    (\n",
    "        pl.scan_csv(input_file)\n",
    "        .limit(n_rows)\n",
    "        .sink_csv(output_file)\n",
    "    )\n",
    "\n",
    "# Process all three files\n",
    "file_pairs = [\n",
    "    (\"train.csv\", \"train_small.csv\"),\n",
    "    (\"test.csv\", \"test_small.csv\"),\n",
    "    (\"valid.csv\", \"valid_small.csv\")\n",
    "]\n",
    "\n",
    "for input_file, output_file in file_pairs:\n",
    "    create_smaller_csv(input_file, output_file)"
   ]
  },
  {
   "cell_type": "code",
   "execution_count": 2,
   "metadata": {},
   "outputs": [],
   "source": [
    "import polars as pl\n",
    "\n",
    "def create_smaller_csv(input_file, output_file):\n",
    "    # Get total count\n",
    "    lf = pl.scan_csv(input_file)\n",
    "    n_rows = 10000\n",
    "    \n",
    "    # Create new smaller CSV\n",
    "    (\n",
    "        pl.scan_csv(input_file)\n",
    "        .limit(n_rows)\n",
    "        .sink_csv(output_file)\n",
    "    )\n",
    "\n",
    "# Process all three files\n",
    "file_pairs = [\n",
    "    (\"train.csv\", \"train_toy.csv\"),\n",
    "    (\"test.csv\", \"test_toy.csv\"),\n",
    "    (\"valid.csv\", \"valid_toy.csv\")\n",
    "]\n",
    "\n",
    "for input_file, output_file in file_pairs:\n",
    "    create_smaller_csv(input_file, output_file)"
   ]
  }
 ],
 "metadata": {
  "kernelspec": {
   "display_name": "base",
   "language": "python",
   "name": "python3"
  },
  "language_info": {
   "codemirror_mode": {
    "name": "ipython",
    "version": 3
   },
   "file_extension": ".py",
   "mimetype": "text/x-python",
   "name": "python",
   "nbconvert_exporter": "python",
   "pygments_lexer": "ipython3",
   "version": "3.10.8"
  }
 },
 "nbformat": 4,
 "nbformat_minor": 2
}
